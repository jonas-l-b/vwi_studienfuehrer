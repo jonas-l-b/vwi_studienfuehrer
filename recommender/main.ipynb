{
 "nbformat": 4,
 "nbformat_minor": 2,
 "metadata": {
  "language_info": {
   "name": "python",
   "codemirror_mode": {
    "name": "ipython",
    "version": 3
   },
   "version": "3.7.3-final"
  },
  "orig_nbformat": 2,
  "file_extension": ".py",
  "mimetype": "text/x-python",
  "name": "python",
  "npconvert_exporter": "python",
  "pygments_lexer": "ipython3",
  "version": 3,
  "kernelspec": {
   "name": "python3",
   "display_name": "Python 3"
  }
 },
 "cells": [
  {
   "cell_type": "code",
   "execution_count": 2,
   "metadata": {},
   "outputs": [],
   "source": [
    "### Requirements\n",
    "# pip install lightfm"
   ]
  },
  {
   "cell_type": "markdown",
   "metadata": {},
   "source": [
    "# Imports & Preparation"
   ]
  },
  {
   "cell_type": "code",
   "execution_count": 1,
   "metadata": {},
   "outputs": [],
   "source": [
    "# Public\n",
    "import pandas as pd\n",
    "import numpy as np\n",
    "\n",
    "from lightfm import LightFM\n",
    "from lightfm.data import Dataset\n",
    "from lightfm.cross_validation import random_train_test_split\n",
    "from lightfm.evaluation import precision_at_k, recall_at_k\n",
    "from lightfm.evaluation import auc_score\n",
    "\n",
    "# Custom\n",
    "from data_preparation import get_data\n",
    "from lightfmFunctions import get_recoms, get_similar_modules\n",
    "from support_functions import get_top_sorted\n",
    "\n",
    "from classes import Mappings"
   ]
  },
  {
   "cell_type": "code",
   "execution_count": 2,
   "metadata": {},
   "outputs": [],
   "source": [
    "data, fm_data, users, user_ids, items, item_ids = get_data()"
   ]
  },
  {
   "cell_type": "markdown",
   "metadata": {},
   "source": [
    "# Model"
   ]
  },
  {
   "cell_type": "code",
   "execution_count": 3,
   "metadata": {},
   "outputs": [
    {
     "output_type": "execute_result",
     "data": {
      "text/plain": "<lightfm.lightfm.LightFM at 0x1a9c31a5390>"
     },
     "metadata": {},
     "execution_count": 3
    }
   ],
   "source": [
    "dataset = Dataset()\n",
    "dataset.fit(users=user_ids, items=item_ids)\n",
    "\n",
    "mappings = Mappings(dataset)\n",
    "\n",
    "interactions, _ = dataset.build_interactions(fm_data.to_records(index=False))\n",
    "model = LightFM(loss=\"warp\", learning_rate=0.05, random_state=42)\n",
    "model.fit(interactions=interactions, epochs=100)"
   ]
  },
  {
   "cell_type": "code",
   "execution_count": 4,
   "metadata": {},
   "outputs": [],
   "source": [
    "# get_recoms(fm_data=fm_data, items=items, dataset=dataset, model=model, mappings=mappings, user_id=2, num_recs=10)"
   ]
  },
  {
   "cell_type": "code",
   "execution_count": 5,
   "metadata": {
    "tags": []
   },
   "outputs": [],
   "source": [
    "recs_for_all_users = pd.DataFrame()\n",
    "for i in user_ids:\n",
    "    recs_for_all_users = recs_for_all_users.append(\n",
    "        get_recoms(fm_data=fm_data, items=items, dataset=dataset, model=model, mappings=mappings, user_id=i, num_recs=10)\n",
    "    )"
   ]
  },
  {
   "cell_type": "code",
   "execution_count": 7,
   "metadata": {},
   "outputs": [],
   "source": [
    "# Create and write sql queries to file\n",
    "def create_sql(df):\n",
    "    f.write(f\"INSERT INTO `recommendations`(`user_id`, `item_id`) VALUES ({df.user_id}, {df.item_id});\\n\")\n",
    "\n",
    "f = open(\"sql_queries.txt\",\"w+\")\n",
    "recs_for_all_users.apply(lambda x: create_sql(x), axis=1)\n",
    "f.close()"
   ]
  },
  {
   "cell_type": "code",
   "execution_count": 7,
   "metadata": {},
   "outputs": [],
   "source": [
    "recs_for_all_models = pd.DataFrame()\n",
    "for i in item_ids:\n",
    "    recs_for_all_models = recs_for_all_models.append(\n",
    "        get_similar_modules(items=items, model=model, mappings=mappings, base_item_id=i, num_of_rec=50)\n",
    "    )"
   ]
  },
  {
   "cell_type": "code",
   "execution_count": 9,
   "metadata": {},
   "outputs": [],
   "source": [
    "# Create and write sql queries to file\n",
    "def create_sql(df):\n",
    "    f.write(f\"INSERT INTO `recommendations_for_items`(`base_item_id`, `item_id`, `rank`) VALUES ({df.base_item_id}, {df.item_id}, {df['rank']});\\n\")\n",
    "    \n",
    "f = open(\"sql_queries_for_modules.txt\",\"w+\")\n",
    "recs_for_all_models.apply(lambda x: create_sql(x), axis=1)\n",
    "f.close()"
   ]
  }
 ]
}